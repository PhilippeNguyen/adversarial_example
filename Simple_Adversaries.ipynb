{
  "nbformat": 4,
  "nbformat_minor": 0,
  "metadata": {
    "colab": {
      "name": "Simple_Adversaries.ipynb",
      "version": "0.3.2",
      "views": {},
      "default_view": {},
      "provenance": [],
      "collapsed_sections": []
    }
  },
  "cells": [
    {
      "metadata": {
        "id": "VRsZAC9uYi-C",
        "colab_type": "toc"
      },
      "source": [
        ">[Set up](#scrollTo=o5GhFjBfUYEJ)\n",
        "\n",
        ">[Config](#scrollTo=MQm6LXj0YGZ6)\n",
        "\n",
        ">[Main](#scrollTo=TzwgwAO6YXsg)\n",
        "\n"
      ],
      "cell_type": "markdown"
    },
    {
      "metadata": {
        "id": "o5GhFjBfUYEJ",
        "colab_type": "text"
      },
      "source": [
        "# Set up"
      ],
      "cell_type": "markdown"
    },
    {
      "metadata": {
        "id": "bp8TASmdVZUY",
        "colab_type": "text"
      },
      "source": [
        "imports"
      ],
      "cell_type": "markdown"
    },
    {
      "metadata": {
        "id": "MdoMFB9kOOE-",
        "colab_type": "code",
        "colab": {
          "autoexec": {
            "startup": false,
            "wait_interval": 0
          },
          "output_extras": [
            {
              "item_id": 2
            }
          ],
          "base_uri": "https://localhost:8080/",
          "height": 102
        },
        "outputId": "5a2a5748-2bc7-4b80-9268-5012dc0a07ec",
        "executionInfo": {
          "status": "ok",
          "timestamp": 1511232892365,
          "user_tz": 240,
          "elapsed": 1221,
          "user": {
            "displayName": "Philippe Minh Tri Nguyen",
            "photoUrl": "https://lh3.googleusercontent.com/a/default-user=s128",
            "userId": "112858087494934748990"
          }
        }
      },
      "source": [
        "!pip install keras\n",
        "import keras\n",
        "from keras.datasets import mnist\n",
        "import keras.backend as K\n",
        "from keras.layers import (Dense,Activation,\n",
        "                          Flatten,Input)\n",
        "from keras.callbacks import EarlyStopping\n",
        "from keras.optimizers import Optimizer\n",
        "from keras.utils import to_categorical\n",
        "import numpy as np\n",
        "import matplotlib.pyplot as plt"
      ],
      "cell_type": "code",
      "execution_count": 12,
      "outputs": [
        {
          "output_type": "stream",
          "text": [
            "Requirement already satisfied: keras in /usr/local/lib/python2.7/dist-packages\n",
            "Requirement already satisfied: six>=1.9.0 in /usr/local/lib/python2.7/dist-packages (from keras)\n",
            "Requirement already satisfied: pyyaml in /usr/local/lib/python2.7/dist-packages (from keras)\n",
            "Requirement already satisfied: numpy>=1.9.1 in /usr/local/lib/python2.7/dist-packages (from keras)\n",
            "Requirement already satisfied: scipy>=0.14 in /usr/local/lib/python2.7/dist-packages (from keras)\n"
          ],
          "name": "stdout"
        }
      ]
    },
    {
      "metadata": {
        "id": "vk8b2uZHVe2j",
        "colab_type": "text"
      },
      "source": [
        "functions"
      ],
      "cell_type": "markdown"
    },
    {
      "metadata": {
        "id": "4cX8gPK9mxyW",
        "colab_type": "code",
        "colab": {
          "autoexec": {
            "startup": false,
            "wait_interval": 0
          }
        }
      },
      "source": [
        "def get_dataset(data_name):\n",
        "    if data_name.startswith('mnist'):\n",
        "        train_data,test_data = mnist.load_data()\n",
        "        X_train,y_train = train_data\n",
        "        X_test,y_test = test_data\n",
        "        X_train = np.float32(X_train/255.)\n",
        "        X_test = np.float32(X_test/255.)\n",
        "        y_train = np.float32(y_train)\n",
        "        y_test = np.float32(y_test)\n",
        "        \n",
        "        mnist_vals = data_name.replace('mnist','')\n",
        "        if mnist_vals:\n",
        "            mnist_ints = [int(idx) for idx in mnist_vals]\n",
        "            valid_train = np.isin(y_train,mnist_ints)\n",
        "            valid_test = np.isin(y_test,mnist_ints)\n",
        "            \n",
        "            X_train = X_train[valid_train]\n",
        "            y_train = y_train[valid_train]\n",
        "            X_test = X_test[valid_test]\n",
        "            y_test = y_test[valid_test]\n",
        "        else:\n",
        "            mnist_ints =list(range(10))\n",
        "            \n",
        "        y_train = to_categorical(y_train)\n",
        "        y_test = to_categorical(y_test)\n",
        "        \n",
        "    return X_train,y_train,X_test,y_test,mnist_ints\n",
        "  \n",
        "def swap_y(y_set,unique_vectors):\n",
        "    y_shape = np.shape(y_set)\n",
        "    y_len,num_cat = y_shape\n",
        "    \n",
        "    y_new = np.zeros(y_shape)\n",
        "    y_new_probs = np.argmax(np.random.multinomial(1,\n",
        "                                        [1/np.float(num_cat-1)]*(num_cat-1),\n",
        "                                        size=y_len),\n",
        "                                        axis=1)\n",
        "    for idx in range(y_len):\n",
        "        not_eq = np.any(np.not_equal(y_set[idx],unique_vectors),axis=1)\n",
        "        not_eq_idx = np.where(not_eq)[0]\n",
        "        y_new[idx] = unique_vectors[not_eq_idx[y_new_probs[idx]]]\n",
        "    \n",
        "    return y_new\n",
        "\n",
        "def logreg_model(input_shape,num_categories,\n",
        "                 input_tensor=None):\n",
        "    if input_tensor is None:\n",
        "        inpt = Input(shape=input_shape)\n",
        "    else:\n",
        "        if not K.is_keras_tensor(input_tensor):\n",
        "            inpt = Input(tensor=input_tensor)\n",
        "        else:\n",
        "            inpt = input_tensor\n",
        "    x = Flatten()(inpt)\n",
        "    x = Dense(num_categories)(x)\n",
        "    x = Activation('softmax')(x)\n",
        "    model = keras.models.Model(inpt,x)\n",
        "    return model\n",
        "\n",
        "def select_adversarial_candidates(model,X,Y,num_examples):\n",
        "    predictions = model.predict(X)\n",
        "    x_shape,y_shape = np.shape(X),np.shape(Y)\n",
        "    new_X = np.zeros((num_examples,x_shape[1],x_shape[2]))\n",
        "    new_Y = np.zeros((num_examples,y_shape[1]))\n",
        "    new_idx = 0\n",
        "    \n",
        "    for idx in range(x_shape[0]):\n",
        "        if np.argmax(predictions[idx]) == np.argmax(Y[idx]):\n",
        "            new_X[new_idx] = X[idx]\n",
        "            new_Y[new_idx] = Y[idx]\n",
        "            new_idx+=1\n",
        "        if new_idx >= num_examples:\n",
        "            break\n",
        "    return new_X[:new_idx],new_Y[:new_idx]\n",
        "\n",
        "\n",
        "class Adv_Adam(Optimizer):\n",
        "  ''' Slight modification of keras Adam which returns the grad instead\n",
        "      of updating as part of the tf call\n",
        "  '''\n",
        "  def __init__(self,\n",
        "               lr=0.001,\n",
        "               beta_1=0.9,\n",
        "               beta_2=0.999,\n",
        "               epsilon=1e-8,\n",
        "               decay=0.,\n",
        "               **kwargs):\n",
        "    super(Adv_Adam, self).__init__(**kwargs)\n",
        "    self.iterations = K.variable(0, name='iterations')\n",
        "    self.lr = K.variable(lr, name='lr')\n",
        "    self.beta_1 = K.variable(beta_1, name='beta_1')\n",
        "    self.beta_2 = K.variable(beta_2, name='beta_2')\n",
        "    self.epsilon = epsilon\n",
        "    self.decay = K.variable(decay, name='decay')\n",
        "    self.initial_decay = decay\n",
        "    \n",
        "  def get_updates(self, params, loss,shapes=None):\n",
        "    grads = self.get_gradients(loss, params)\n",
        "    self.updates = [K.update_add(self.iterations, 1)]\n",
        "\n",
        "    lr = self.lr\n",
        "    if self.initial_decay > 0:\n",
        "      lr *= (1. / (1. + self.decay * self.iterations))\n",
        "\n",
        "    t = self.iterations + 1\n",
        "    lr_t = lr * (K.sqrt(1. - K.pow(self.beta_2, t)) /\n",
        "                 (1. - K.pow(self.beta_1, t)))\n",
        "    if shapes is None:\n",
        "        shapes = [K.int_shape(p) for p in params]\n",
        "    ms = [K.zeros(shape) for shape in shapes]\n",
        "    vs = [K.zeros(shape) for shape in shapes]\n",
        "    self.weights = [self.iterations] + ms + vs\n",
        "\n",
        "    for p, g, m, v in zip(params, grads, ms, vs):\n",
        "      m_t = (self.beta_1 * m) + (1. - self.beta_1) * g\n",
        "      v_t = (self.beta_2 * v) + (1. - self.beta_2) * K.square(g)\n",
        "      grad= lr_t * m_t / (K.sqrt(v_t) + self.epsilon)\n",
        "\n",
        "      self.updates.append(K.update(m, m_t))\n",
        "      self.updates.append(K.update(v, v_t))\n",
        "\n",
        "      return grad,self.updates\n",
        "  \n",
        "def fit_adv(images,model,loss,\n",
        "            num_iter=100,\n",
        "            optimizer=None):\n",
        "    if optimizer is None:\n",
        "        optimizer = Adv_Adam()\n",
        "        \n",
        "    model_input = model.input\n",
        "    grad,optimizer_updates = optimizer.get_updates(loss=[loss],\n",
        "                                 params=[model_input],\n",
        "                                 shapes = [images.shape])\n",
        "\n",
        "    iter_func = K.function([model_input],\n",
        "                 [loss,grad],\n",
        "                 updates=optimizer_updates)\n",
        "    \n",
        "    for i in range(num_iter):\n",
        "        loss,g = iter_func([images])\n",
        "        images = images - g\n",
        "        if i %10 == 0:\n",
        "            print('iter ',str(i),', current adversary loss : ', loss)\n",
        "            \n",
        "    return images"
      ],
      "cell_type": "code",
      "execution_count": 0,
      "outputs": []
    },
    {
      "metadata": {
        "id": "MQm6LXj0YGZ6",
        "colab_type": "text"
      },
      "source": [
        "# Config"
      ],
      "cell_type": "markdown"
    },
    {
      "metadata": {
        "id": "IIz8pyTTYFd4",
        "colab_type": "code",
        "colab": {
          "autoexec": {
            "startup": false,
            "wait_interval": 0
          }
        }
      },
      "source": [
        "data_str = 'mnist012'\n",
        "num_adversaries = 50"
      ],
      "cell_type": "code",
      "execution_count": 0,
      "outputs": []
    },
    {
      "metadata": {
        "id": "TzwgwAO6YXsg",
        "colab_type": "text"
      },
      "source": [
        "# Main"
      ],
      "cell_type": "markdown"
    },
    {
      "metadata": {
        "id": "UjcHBqszb90o",
        "colab_type": "text"
      },
      "source": [
        "First we get our mnist data and set up the shape for our model"
      ],
      "cell_type": "markdown"
    },
    {
      "metadata": {
        "id": "b0spK5VjYojK",
        "colab_type": "code",
        "colab": {
          "autoexec": {
            "startup": false,
            "wait_interval": 0
          }
        }
      },
      "source": [
        "X_train,y_train,X_test,y_test,mnist_ints = get_dataset(data_str)\n",
        "\n",
        "input_shape = np.shape(X_train)[1:]\n",
        "num_categories = np.shape(y_train)[1]\n"
      ],
      "cell_type": "code",
      "execution_count": 0,
      "outputs": []
    },
    {
      "metadata": {
        "id": "BoODQpFhcJ_Q",
        "colab_type": "text"
      },
      "source": [
        "Train the model. Here we use a simple logistic regression model (2D images are flattened)"
      ],
      "cell_type": "markdown"
    },
    {
      "metadata": {
        "id": "lV1Tctz6a98n",
        "colab_type": "code",
        "colab": {
          "autoexec": {
            "startup": false,
            "wait_interval": 0
          },
          "output_extras": [
            {
              "item_id": 31
            },
            {
              "item_id": 62
            },
            {
              "item_id": 66
            },
            {
              "item_id": 67
            }
          ],
          "base_uri": "https://localhost:8080/",
          "height": 595
        },
        "outputId": "76ad7317-58aa-4efd-f963-e5d00ed27d57",
        "executionInfo": {
          "status": "ok",
          "timestamp": 1511232912007,
          "user_tz": 240,
          "elapsed": 16980,
          "user": {
            "displayName": "Philippe Minh Tri Nguyen",
            "photoUrl": "https://lh3.googleusercontent.com/a/default-user=s128",
            "userId": "112858087494934748990"
          }
        }
      },
      "source": [
        "model = logreg_model(input_shape=input_shape,\n",
        "                     num_categories=num_categories)\n",
        "\n",
        "model.compile('adam','categorical_crossentropy',['acc'])\n",
        "early_stop = EarlyStopping(patience=5)\n",
        "model.fit(X_train,y_train,\n",
        "          epochs=100,\n",
        "          callbacks=[early_stop],\n",
        "          validation_data=(X_test,y_test))"
      ],
      "cell_type": "code",
      "execution_count": 16,
      "outputs": [
        {
          "output_type": "stream",
          "text": [
            "Train on 18623 samples, validate on 3147 samples\n",
            "Epoch 1/100\n",
            "18623/18623 [==============================] - 1s 53us/step - loss: 0.1569 - acc: 0.9591 - val_loss: 0.0675 - val_acc: 0.9822\n",
            "Epoch 2/100\n",
            "18623/18623 [==============================] - 1s 48us/step - loss: 0.0626 - acc: 0.9823 - val_loss: 0.0475 - val_acc: 0.9873\n",
            "Epoch 3/100\n",
            "18623/18623 [==============================] - 1s 52us/step - loss: 0.0510 - acc: 0.9850 - val_loss: 0.0424 - val_acc: 0.9879\n",
            "Epoch 4/100\n",
            "18623/18623 [==============================] - 1s 52us/step - loss: 0.0454 - acc: 0.9864 - val_loss: 0.0362 - val_acc: 0.9895\n",
            "Epoch 5/100\n",
            "18623/18623 [==============================] - 1s 53us/step - loss: 0.0411 - acc: 0.9871 - val_loss: 0.0342 - val_acc: 0.9905\n",
            "Epoch 6/100\n",
            "18623/18623 [==============================] - 1s 52us/step - loss: 0.0383 - acc: 0.9878 - val_loss: 0.0335 - val_acc: 0.9901\n",
            "Epoch 7/100\n",
            "18623/18623 [==============================] - 1s 55us/step - loss: 0.0362 - acc: 0.9894 - val_loss: 0.0331 - val_acc: 0.9895\n",
            "Epoch 8/100\n",
            "17792/18623 [===========================>..] - ETA: 0s - loss: 0.0353 - acc: 0.9896"
          ],
          "name": "stdout"
        },
        {
          "output_type": "stream",
          "text": [
            "18623/18623 [==============================] - 1s 58us/step - loss: 0.0347 - acc: 0.9897 - val_loss: 0.0317 - val_acc: 0.9908\n",
            "Epoch 9/100\n",
            "18623/18623 [==============================] - 1s 61us/step - loss: 0.0334 - acc: 0.9902 - val_loss: 0.0321 - val_acc: 0.9905\n",
            "Epoch 10/100\n",
            "18623/18623 [==============================] - 1s 57us/step - loss: 0.0324 - acc: 0.9901 - val_loss: 0.0372 - val_acc: 0.9886\n",
            "Epoch 11/100\n",
            "18623/18623 [==============================] - 1s 57us/step - loss: 0.0313 - acc: 0.9908 - val_loss: 0.0305 - val_acc: 0.9911\n",
            "Epoch 12/100\n",
            "18623/18623 [==============================] - 1s 58us/step - loss: 0.0303 - acc: 0.9910 - val_loss: 0.0308 - val_acc: 0.9905\n",
            "Epoch 13/100\n",
            "18623/18623 [==============================] - 1s 56us/step - loss: 0.0295 - acc: 0.9915 - val_loss: 0.0324 - val_acc: 0.9886\n",
            "Epoch 14/100\n",
            "18623/18623 [==============================] - 1s 59us/step - loss: 0.0288 - acc: 0.9912 - val_loss: 0.0311 - val_acc: 0.9908\n",
            "Epoch 15/100\n",
            "18623/18623 [==============================] - 1s 59us/step - loss: 0.0282 - acc: 0.9922 - val_loss: 0.0316 - val_acc: 0.9911\n",
            "Epoch 16/100\n",
            " 1856/18623 [=>............................] - ETA: 0s - loss: 0.0244 - acc: 0.9919"
          ],
          "name": "stdout"
        },
        {
          "output_type": "stream",
          "text": [
            "18623/18623 [==============================] - 1s 59us/step - loss: 0.0278 - acc: 0.9921 - val_loss: 0.0316 - val_acc: 0.9898\n"
          ],
          "name": "stdout"
        },
        {
          "output_type": "execute_result",
          "data": {
            "text/plain": [
              "<keras.callbacks.History at 0x7f3908397b90>"
            ]
          },
          "metadata": {
            "tags": []
          },
          "execution_count": 16
        }
      ]
    },
    {
      "metadata": {
        "id": "Mur93HpNcax9",
        "colab_type": "text"
      },
      "source": [
        "Use the trained model to create adversaries"
      ],
      "cell_type": "markdown"
    },
    {
      "metadata": {
        "id": "_JV8UQkJbYiZ",
        "colab_type": "code",
        "colab": {
          "autoexec": {
            "startup": false,
            "wait_interval": 0
          }
        }
      },
      "source": [
        "model_weights = model.get_weights()\n"
      ],
      "cell_type": "code",
      "execution_count": 0,
      "outputs": []
    },
    {
      "metadata": {
        "id": "jqDn6Rw4n2RD",
        "colab_type": "text"
      },
      "source": [
        "Pick some correctly predicted samples to use for generating adversaries"
      ],
      "cell_type": "markdown"
    },
    {
      "metadata": {
        "id": "ytIOqP-Bn9n7",
        "colab_type": "code",
        "colab": {
          "autoexec": {
            "startup": false,
            "wait_interval": 0
          }
        }
      },
      "source": [
        "X_cand,y_cand = select_adversarial_candidates(model,X_train,\n",
        "                                            y_train,num_adversaries)\n",
        "initial_predictions = model.predict(X_cand)\n",
        "unique_vectors = np.unique(y_train,axis=0)\n",
        "\n",
        "y_new = swap_y(y_cand,unique_vectors)"
      ],
      "cell_type": "code",
      "execution_count": 0,
      "outputs": []
    },
    {
      "metadata": {
        "id": "z07kxLruoFKQ",
        "colab_type": "text"
      },
      "source": [
        "Set up new adversarial generation code"
      ],
      "cell_type": "markdown"
    },
    {
      "metadata": {
        "id": "m5NzoNiZn_73",
        "colab_type": "code",
        "colab": {
          "autoexec": {
            "startup": false,
            "wait_interval": 0
          },
          "output_extras": [
            {
              "item_id": 2
            },
            {
              "item_id": 3
            }
          ],
          "base_uri": "https://localhost:8080/",
          "height": 551
        },
        "outputId": "526f117d-114b-49db-9f26-a6487e4de392",
        "executionInfo": {
          "status": "ok",
          "timestamp": 1511233102541,
          "user_tz": 240,
          "elapsed": 940,
          "user": {
            "displayName": "Philippe Minh Tri Nguyen",
            "photoUrl": "https://lh3.googleusercontent.com/a/default-user=s128",
            "userId": "112858087494934748990"
          }
        }
      },
      "source": [
        "loss = K.sum(K.categorical_crossentropy(y_new,model.output))\n",
        "\n",
        "adversary_x = fit_adv(X_cand,model,loss)\n",
        "adversary_y = model.predict(adversary_x)\n",
        "\n",
        "successful_adv = []\n",
        "for adv_idx in range(num_adversaries):\n",
        "  if np.argmax(adversary_y[adv_idx]) != np.argmax(y_cand[adv_idx]):\n",
        "      successful_adv.append(adv_idx)\n",
        "\n",
        "print(\"Adversaries worked : {:d} out of {:d}\".format(len(successful_adv),num_adversaries))\n",
        "\n",
        "successful_adv_x = adversary_x[successful_adv]\n",
        "successful_adv_y = adversary_y[successful_adv]\n",
        "original_x = X_cand[successful_adv]\n",
        "original_y = y_cand[successful_adv]\n",
        "if len(successful_adv) > 0:\n",
        "  plt.imshow(successful_adv_x[0])\n",
        "  print('model incorrectly predicts this adversary as ',\n",
        "        mnist_ints[np.argmax(adversary_y[0])])\n"
      ],
      "cell_type": "code",
      "execution_count": 22,
      "outputs": [
        {
          "output_type": "stream",
          "text": [
            "('iter ', '0', ', current adversary loss : ', 600.35321)\n",
            "('iter ', '10', ', current adversary loss : ', 530.22394)\n",
            "('iter ', '20', ', current adversary loss : ', 461.73163)\n",
            "('iter ', '30', ', current adversary loss : ', 399.85791)\n",
            "('iter ', '40', ', current adversary loss : ', 352.37421)\n",
            "('iter ', '50', ', current adversary loss : ', 321.41464)\n",
            "('iter ', '60', ', current adversary loss : ', 303.75772)\n",
            "('iter ', '70', ', current adversary loss : ', 295.90515)\n",
            "('iter ', '80', ', current adversary loss : ', 292.86752)\n",
            "('iter ', '90', ', current adversary loss : ', 291.7579)\n",
            "Adversaries worked : 32 out of 50\n",
            "('model incorrectly predicts this adversary as ', 0)\n"
          ],
          "name": "stdout"
        },
        {
          "output_type": "display_data",
          "data": {
            "image/png": "[encoded data removed]",
            "text/plain": [
              "<matplotlib.figure.Figure at 0x7f3905703210>"
            ]
          },
          "metadata": {
            "tags": []
          }
        }
      ]
    },
    {
      "metadata": {
        "id": "4Ow0o0DpgdsT",
        "colab_type": "code",
        "colab": {
          "autoexec": {
            "startup": false,
            "wait_interval": 0
          },
          "output_extras": [
            {
              "item_id": 1
            },
            {
              "item_id": 2
            }
          ],
          "base_uri": "https://localhost:8080/",
          "height": 364
        },
        "outputId": "61c80538-8324-4de6-c694-79ea888229e6",
        "executionInfo": {
          "status": "ok",
          "timestamp": 1511233081135,
          "user_tz": 240,
          "elapsed": 437,
          "user": {
            "displayName": "Philippe Minh Tri Nguyen",
            "photoUrl": "https://lh3.googleusercontent.com/a/default-user=s128",
            "userId": "112858087494934748990"
          }
        }
      },
      "source": [
        "  if len(successful_adv) > 0:\n",
        "    plt.imshow(original_x[0])\n",
        "    print('model predicted the original as ' ,\n",
        "          mnist_ints[np.argmax(original_y[0])])"
      ],
      "cell_type": "code",
      "execution_count": 21,
      "outputs": [
        {
          "output_type": "stream",
          "text": [
            "('model predicted the original as ', 1)\n"
          ],
          "name": "stdout"
        },
        {
          "output_type": "display_data",
          "data": {
            "image/png": "[encoded data removed]",
            "text/plain": [
              "<matplotlib.figure.Figure at 0x7f390836db10>"
            ]
          },
          "metadata": {
            "tags": []
          }
        }
      ]
    }
  ]
}